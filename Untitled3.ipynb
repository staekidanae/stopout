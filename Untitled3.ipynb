{
 "cells": [
  {
   "cell_type": "code",
   "execution_count": 1,
   "metadata": {},
   "outputs": [],
   "source": [
    "girlsday_members = ['민아', '혜리', '유라', '소진']"
   ]
  },
  {
   "cell_type": "code",
   "execution_count": 2,
   "metadata": {},
   "outputs": [
    {
     "name": "stdout",
     "output_type": "stream",
     "text": [
      "- 민아\n",
      "- 혜리\n",
      "- 유라\n",
      "- 소진\n"
     ]
    }
   ],
   "source": [
    "for member in girlsday_members:\n",
    "    print('- {}'.format(member))"
   ]
  },
  {
   "cell_type": "code",
   "execution_count": 3,
   "metadata": {},
   "outputs": [],
   "source": [
    "fruit_dict = {\n",
    "    'red': 'apple',\n",
    "    'yellow': 'banana',\n",
    "    'green': 'melon',\n",
    "}"
   ]
  },
  {
   "cell_type": "code",
   "execution_count": 14,
   "metadata": {},
   "outputs": [
    {
     "name": "stdout",
     "output_type": "stream",
     "text": [
      "[0] RED: Apple\n",
      "[1] YELLOW: Banana\n",
      "[2] GREEN: Melon\n"
     ]
    }
   ],
   "source": [
    "for number,color in enumerate(fruit_dict):\n",
    "    print('[{}] {}: {}'.format(\n",
    "        number,\n",
    "        color.upper(),\n",
    "        fruit_dict[color][0:1].upper() + fruit_dict[color][1:]\n",
    "    ))"
   ]
  },
  {
   "cell_type": "code",
   "execution_count": 22,
   "metadata": {},
   "outputs": [
    {
     "name": "stdout",
     "output_type": "stream",
     "text": [
      "[1, 2, 3, 55]\n",
      "[1, 2, 3]\n"
     ]
    }
   ],
   "source": [
    "list = [1,2,3]\n",
    "\n",
    "# copy()로 복사한 _copy와 일반적인 대입으로 복사한 _nocopy\n",
    "new_list_nocopy = list\n",
    "new_list_copy = list.copy()\n",
    "\n",
    "list.append(55)\n",
    "\n",
    "# copy() 메서드가 복사한 리스트는 새로운 메모리의 주소로 기존 list의 값이 복사되어서\n",
    "\n",
    "# 기존 list에 값이 추가되어도 변하지 않는다.\n",
    "\n",
    "\n",
    "print(new_list_nocopy)\n",
    "print(new_list_copy)"
   ]
  },
  {
   "cell_type": "markdown",
   "metadata": {},
   "source": [
    "문제 3. copy() 메서드는 새로운 메모리의 주소로 값을 복사한다."
   ]
  },
  {
   "cell_type": "code",
   "execution_count": null,
   "metadata": {},
   "outputs": [],
   "source": []
  },
  {
   "cell_type": "code",
   "execution_count": 28,
   "metadata": {},
   "outputs": [
    {
     "name": "stdout",
     "output_type": "stream",
     "text": [
      "[3, 7, 11, 15, 19, 23, 27]\n"
     ]
    }
   ],
   "source": [
    "num_list = []\n",
    "\n",
    "for i in range(3,31,4):\n",
    "    num_list.append(i)\n",
    "    \n",
    "print(num_list)"
   ]
  },
  {
   "cell_type": "code",
   "execution_count": 31,
   "metadata": {},
   "outputs": [
    {
     "name": "stdout",
     "output_type": "stream",
     "text": [
      "1\n",
      "1\n",
      "None\n"
     ]
    }
   ],
   "source": [
    "obj = {\n",
    "    'a' : 1,\n",
    "    'b' : 2,\n",
    "}\n",
    "\n",
    "print(obj['a'])\n",
    "print(obj.get('a'))\n",
    "\n",
    "# print(obj['c'])  <- 에러 발생\n",
    "print(obj.get('c'))"
   ]
  },
  {
   "cell_type": "markdown",
   "metadata": {},
   "source": [
    "문제 5. obj['key']는 해당 키가 존재하지 않을경우 오류를 발생시키지만,\n",
    "        obj.get['key']는 키가 존재하지 않으면 None을 리턴시킨다."
   ]
  },
  {
   "cell_type": "code",
   "execution_count": null,
   "metadata": {},
   "outputs": [],
   "source": []
  },
  {
   "cell_type": "code",
   "execution_count": null,
   "metadata": {},
   "outputs": [],
   "source": []
  },
  {
   "cell_type": "code",
   "execution_count": 33,
   "metadata": {},
   "outputs": [],
   "source": [
    "pokemon_info = [\n",
    "    ('피카츄', '전기 타입'),\n",
    "    ('파이리', '불 타입'),\n",
    "    ('꼬부기', '물 타입'),\n",
    "    ('이상해씨', '풀 타입'),\n",
    "]"
   ]
  },
  {
   "cell_type": "code",
   "execution_count": 43,
   "metadata": {},
   "outputs": [
    {
     "name": "stdout",
     "output_type": "stream",
     "text": [
      "피카츄 전기 타입\n",
      "피카츄는 전기 타입입니다.\n",
      "파이리 불 타입\n",
      "파이리는 불 타입입니다.\n",
      "꼬부기 물 타입\n",
      "꼬부기는 물 타입입니다.\n",
      "이상해씨 풀 타입\n",
      "이상해씨는 풀 타입입니다.\n"
     ]
    }
   ],
   "source": [
    "for pokemon in pokemon_info:\n",
    "    print(*pokemon)\n",
    "    a, b = pokemon\n",
    "    print('{}는 {}입니다.'.format(a,b))"
   ]
  },
  {
   "cell_type": "markdown",
   "metadata": {},
   "source": [
    "문제 6. 튜플의 요소를 변수 여러 개에 할당하는 것을 튜플 언패킹이라 한다"
   ]
  },
  {
   "cell_type": "markdown",
   "metadata": {},
   "source": [
    "문제 7. 위치인자는 호출할때의 순서대로 해당 변수에 할당되게 되고,\n",
    "        키워드인자는 위치와 상관없이 키워드명과 값을 입력하게 되면 해당 변수에 할당된다."
   ]
  },
  {
   "cell_type": "code",
   "execution_count": null,
   "metadata": {},
   "outputs": [],
   "source": []
  },
  {
   "cell_type": "markdown",
   "metadata": {},
   "source": [
    "문제 8.\n",
    "    1) 클래스와 인스턴스의 차이점\n",
    "        - 클래스에 의해서 만들어진 객체가 인스턴스이며,\n",
    "        인스턴스의 속성은 개별적이나 클래스의 속성은 모든 인스턴스에서 공유되는 점이다.\n",
    "    \n",
    "    2) 클래스의 생성자 함수 이름\n",
    "        - __init__(self)\n",
    "        \n",
    "    3) 클래스의 생성자 함수가 호출되는 시점은\n",
    "        - 클래스가 호출될때\n",
    "        \n",
    "    4) 인스턴스 메서드의 'self'매개변수의 의미\n",
    "        - self는 해당 함수를 부르는 객체가 해당 클래스의 인스턴스인지 확인하고\n",
    "         객체에 정보를 저장하거나 불러올 수 있는 변수이다.\n"
   ]
  },
  {
   "cell_type": "code",
   "execution_count": null,
   "metadata": {},
   "outputs": [],
   "source": []
  },
  {
   "cell_type": "code",
   "execution_count": null,
   "metadata": {},
   "outputs": [],
   "source": []
  },
  {
   "cell_type": "markdown",
   "metadata": {},
   "source": [
    "문제 9. property\n",
    "    - 함수윗부분에 @ 데코레이터를 사용하여 속성화 시킨 뒤\n",
    "    - @function_name.getter / @function_name.setter 로 데코레이팅한 뒤\n",
    "    - getter 부분과 setter부분의 동작을 하게끔 만든 뒤\n",
    "    - 속성값을 불러오며 값을 읽고 변경할 수 있다"
   ]
  },
  {
   "cell_type": "code",
   "execution_count": 45,
   "metadata": {},
   "outputs": [],
   "source": [
    "class User:\n",
    "    def __init__(self, name):\n",
    "        self.name = name\n",
    "\n",
    "class Student(User):\n",
    "    def __init__(self, name, age):\n",
    "        super().__init__( name ) # 부모클래스의 __init__ 메소드 호출\n",
    "        self.age = age"
   ]
  },
  {
   "cell_type": "markdown",
   "metadata": {},
   "source": [
    "문제10 클래스"
   ]
  },
  {
   "cell_type": "markdown",
   "metadata": {},
   "source": [
    "문제 13. http://localhost:8000/abc/ 접속시 url.py 에 해당 url로 접속시 연결시켜주는 설정이 있는지 확인하며\n",
    "        해당 url이 없기때문에 404error 페이지를 보여준다."
   ]
  },
  {
   "cell_type": "code",
   "execution_count": null,
   "metadata": {},
   "outputs": [],
   "source": []
  },
  {
   "cell_type": "code",
   "execution_count": null,
   "metadata": {},
   "outputs": [],
   "source": []
  },
  {
   "cell_type": "code",
   "execution_count": null,
   "metadata": {},
   "outputs": [],
   "source": []
  },
  {
   "cell_type": "code",
   "execution_count": null,
   "metadata": {},
   "outputs": [],
   "source": []
  }
 ],
 "metadata": {
  "kernelspec": {
   "display_name": "Python 3",
   "language": "python",
   "name": "python3"
  },
  "language_info": {
   "codemirror_mode": {
    "name": "ipython",
    "version": 3
   },
   "file_extension": ".py",
   "mimetype": "text/x-python",
   "name": "python",
   "nbconvert_exporter": "python",
   "pygments_lexer": "ipython3",
   "version": "3.6.5"
  }
 },
 "nbformat": 4,
 "nbformat_minor": 2
}
